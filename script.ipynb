{
 "cells": [
  {
   "cell_type": "code",
   "execution_count": 6,
   "id": "81d68fd0",
   "metadata": {},
   "outputs": [],
   "source": [
    "import pandas as pd\n",
    "import numpy as np"
   ]
  },
  {
   "cell_type": "code",
   "execution_count": null,
   "id": "ac4b26eb",
   "metadata": {},
   "outputs": [
    {
     "name": "stdout",
     "output_type": "stream",
     "text": [
      "Shape: (82908, 164)\n"
     ]
    },
    {
     "name": "stderr",
     "output_type": "stream",
     "text": [
      "C:\\Users\\Asus\\AppData\\Local\\Temp\\ipykernel_13232\\2730736923.py:1: DtypeWarning: Columns (2) have mixed types. Specify dtype option on import or set low_memory=False.\n",
      "  data = pd.read_csv('2025_LoL_esports_match_data_from_OraclesElixir.csv')\n"
     ]
    }
   ],
   "source": [
    "data = pd.read_csv('2025_LoL_esports_match_data_from_OraclesElixir.csv')\n",
    "print(f\"Shape: {data.shape}\")\n"
   ]
  },
  {
   "cell_type": "code",
   "execution_count": 27,
   "id": "9ed180d9",
   "metadata": {},
   "outputs": [
    {
     "name": "stdout",
     "output_type": "stream",
     "text": [
      "   year league  playoffs   split  side position  champion champion_matchup  \\\n",
      "0  2025     AL         0  Spring  Blue      bot  Aphelios           Ezreal   \n",
      "1  2025     AL         0  Spring  Blue      bot      Ashe            Varus   \n",
      "2  2025     AL         0  Spring  Blue      bot   Caitlyn            Ziggs   \n",
      "3  2025     AL         0  Spring  Blue      bot     Corki     Miss Fortune   \n",
      "4  2025     AL         0  Spring  Blue      bot     Corki            Varus   \n",
      "\n",
      "   golddiffat15  xpdiffat15  ...  opp_deathsat15  golddiffat25  xpdiffat25  \\\n",
      "0        -448.0     -1059.0  ...             0.0       -2418.0     -2964.0   \n",
      "1         -76.0      1013.0  ...             2.0         922.0       214.0   \n",
      "2        -951.0       -67.0  ...             0.0       -1229.0       216.0   \n",
      "3        1280.0       741.0  ...             1.0           0.0         0.0   \n",
      "4        -111.5      -585.0  ...             1.0        -661.0     -1117.5   \n",
      "\n",
      "   csdiffat25  killsat25  assistsat25  deathsat25  opp_killsat25  \\\n",
      "0       -15.0        1.0          2.0         4.0            5.0   \n",
      "1        11.0        4.0          7.0         4.0            6.0   \n",
      "2         4.0        1.0          4.0         2.0            3.0   \n",
      "3         0.0        0.0          0.0         0.0            0.0   \n",
      "4       -13.0        1.0          3.0         3.0            3.5   \n",
      "\n",
      "   opp_assistsat25  opp_deathsat25  \n",
      "0              5.0             0.0  \n",
      "1              6.0             3.0  \n",
      "2              1.0             2.0  \n",
      "3              0.0             0.0  \n",
      "4              3.5             1.5  \n",
      "\n",
      "[5 rows x 26 columns]\n"
     ]
    }
   ],
   "source": [
    "# Criando lógica de agregação por match up\n",
    "\n",
    "metadata_cols = ['gameid', 'position', 'champion', 'year', 'league', 'playoffs', 'split', 'side','result']\n",
    "\n",
    "metric_cols = [\n",
    "    'golddiffat15', 'xpdiffat15', 'csdiffat15',\n",
    "    'killsat15', 'assistsat15', 'deathsat15',\n",
    "    'opp_killsat15', 'opp_assistsat15', 'opp_deathsat15',\n",
    "    'golddiffat25', 'xpdiffat25', 'csdiffat25',\n",
    "    'killsat25', 'assistsat25', 'deathsat25',\n",
    "    'opp_killsat25', 'opp_assistsat25', 'opp_deathsat25'\n",
    "] # métricas a serem calculadas\n",
    "\n",
    "# Filtrar apenas colunas relevantes\n",
    "base = data[metadata_cols + metric_cols]\n",
    "\n",
    "# Self-join para identificar o matchup dentro do mesmo jogo e mesma posição\n",
    "# Similar a Cross Join do SQL\n",
    "\n",
    "merged = base.merge(\n",
    "    base,\n",
    "    on=['gameid', 'position'],\n",
    "    suffixes=('', '_matchup')\n",
    ")\n",
    "\n",
    "# Remover linhas onde o campeão é ele mesmo\n",
    "merged = merged[merged['champion'] != merged['champion_matchup']]\n",
    "\n",
    "# Agrupar e calcular médias\n",
    "grouped = (\n",
    "    merged.groupby([\n",
    "        'year', 'league', 'playoffs', 'split',\n",
    "        'side', 'position', 'champion', 'champion_matchup'\n",
    "    ])\n",
    "    [metric_cols]\n",
    "    .mean()\n",
    "    .reset_index()\n",
    "    .fillna(0)\n",
    ")\n",
    "\n",
    "print(grouped.head())\n",
    "\n",
    "games_played = (\n",
    "    merged.groupby([\n",
    "        'year', 'league', 'playoffs', 'split',\n",
    "        'side', 'position', 'champion', 'champion_matchup'\n",
    "    ])['gameid']\n",
    "    .nunique()\n",
    "    .reset_index()\n",
    "    .rename(columns={'gameid': 'games_played'})\n",
    ")\n",
    "\n",
    "grouped = grouped.merge(games_played, on=[\n",
    "    'year', 'league', 'playoffs', 'split',\n",
    "    'side', 'position', 'champion', 'champion_matchup'\n",
    "])\n",
    "\n",
    "wins = merged[merged['result'] == 1]\n",
    "\n",
    "victories = (\n",
    "    wins.groupby([\n",
    "        'year', 'league', 'playoffs', 'split',\n",
    "        'side', 'position', 'champion', 'champion_matchup'\n",
    "    ])['gameid']\n",
    "    .nunique()\n",
    "    .reset_index()\n",
    "    .rename(columns={'gameid': 'wins'})\n",
    ")\n",
    "\n",
    "grouped = grouped.merge(victories, on=[\n",
    "    'year', 'league', 'playoffs', 'split',\n",
    "    'side', 'position', 'champion', 'champion_matchup'\n",
    "], how='left')\n",
    "grouped['wins'] = grouped['wins'].fillna(0).astype(int)"
   ]
  },
  {
   "cell_type": "code",
   "execution_count": null,
   "id": "69301095",
   "metadata": {},
   "outputs": [],
   "source": [
    "# Gerar arquivo para validação\n",
    "grouped.to_excel('matchup_stats.xlsx', index=False)"
   ]
  }
 ],
 "metadata": {
  "kernelspec": {
   "display_name": "Python 3",
   "language": "python",
   "name": "python3"
  },
  "language_info": {
   "codemirror_mode": {
    "name": "ipython",
    "version": 3
   },
   "file_extension": ".py",
   "mimetype": "text/x-python",
   "name": "python",
   "nbconvert_exporter": "python",
   "pygments_lexer": "ipython3",
   "version": "3.10.3"
  }
 },
 "nbformat": 4,
 "nbformat_minor": 5
}
